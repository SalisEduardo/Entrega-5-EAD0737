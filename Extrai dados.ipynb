{
 "cells": [
  {
   "cell_type": "code",
   "execution_count": 1,
   "metadata": {},
   "outputs": [],
   "source": [
    "#Bibliotecas\n",
    "import pandas as pd\n",
    "from pandas_datareader import data as web\n",
    "import numpy as np\n",
    "from datetime import datetime\n",
    "from time import  sleep\n",
    "import matplotlib.pyplot as plt\n",
    "from alpha_vantage.timeseries import TimeSeries"
   ]
  },
  {
   "cell_type": "code",
   "execution_count": 2,
   "metadata": {},
   "outputs": [],
   "source": [
    "#chave alphavantage\n",
    "key = 'MPZJMIFCGV0CEWLX'"
   ]
  },
  {
   "cell_type": "code",
   "execution_count": 3,
   "metadata": {},
   "outputs": [],
   "source": [
    "def extrai_preco(tickers, inic, fim):\n",
    "  dfs = []\n",
    "  contador = 0\n",
    "  for ticker in tickers:\n",
    "    contador = contador + 1\n",
    "    if contador %5 == 0:\n",
    "      sleep(65)\n",
    "    try:\n",
    "      df_preco = web.DataReader(ticker, 'av-daily-adjusted', start = inic, end=fim, api_key=(key))\n",
    "      df_preco = pd.DataFrame({ticker:df_preco['adjusted close']})\n",
    "      df_preco.index = pd.to_datetime(df_preco.index, format ='%Y-%m-%d').to_period('D')\n",
    "      dfs.append(df_preco)\n",
    "    except:\n",
    "      continue\n",
    "  return pd.concat(dfs, axis = 1)  "
   ]
  },
  {
   "cell_type": "code",
   "execution_count": 4,
   "metadata": {},
   "outputs": [],
   "source": [
    "dt_inic = datetime(2020,6,1)\n",
    "dt_fim = datetime(2021,11,26)\n",
    "\n",
    "acoes = ['PRIO3.SAO','RAIZ4.SAO', 'ITUB4.SAO','IGTA3.SAO', 'ARZZ3.SAO','ENGL11.SAO','SLCE3.SAO','WEGE3.SAO','GGBR4.SAO','PSSA3.SAO']\n",
    "\n",
    "df_precos = extrai_preco(acoes, dt_inic, dt_fim)"
   ]
  },
  {
   "cell_type": "code",
   "execution_count": 5,
   "metadata": {},
   "outputs": [
    {
     "data": {
      "text/html": [
       "<div>\n",
       "<style scoped>\n",
       "    .dataframe tbody tr th:only-of-type {\n",
       "        vertical-align: middle;\n",
       "    }\n",
       "\n",
       "    .dataframe tbody tr th {\n",
       "        vertical-align: top;\n",
       "    }\n",
       "\n",
       "    .dataframe thead th {\n",
       "        text-align: right;\n",
       "    }\n",
       "</style>\n",
       "<table border=\"1\" class=\"dataframe\">\n",
       "  <thead>\n",
       "    <tr style=\"text-align: right;\">\n",
       "      <th></th>\n",
       "      <th>PRIO3.SAO</th>\n",
       "      <th>RAIZ4.SAO</th>\n",
       "      <th>ITUB4.SAO</th>\n",
       "      <th>IGTA3.SAO</th>\n",
       "      <th>ARZZ3.SAO</th>\n",
       "      <th>SLCE3.SAO</th>\n",
       "      <th>WEGE3.SAO</th>\n",
       "      <th>GGBR4.SAO</th>\n",
       "      <th>PSSA3.SAO</th>\n",
       "    </tr>\n",
       "  </thead>\n",
       "  <tbody>\n",
       "    <tr>\n",
       "      <th>2020-06-01</th>\n",
       "      <td>6.258</td>\n",
       "      <td>NaN</td>\n",
       "      <td>19.4385</td>\n",
       "      <td>34.5734</td>\n",
       "      <td>42.2845</td>\n",
       "      <td>24.7566</td>\n",
       "      <td>20.7825</td>\n",
       "      <td>13.52</td>\n",
       "      <td>21.5506</td>\n",
       "    </tr>\n",
       "    <tr>\n",
       "      <th>2020-06-02</th>\n",
       "      <td>6.718</td>\n",
       "      <td>NaN</td>\n",
       "      <td>20.7448</td>\n",
       "      <td>34.6918</td>\n",
       "      <td>46.4339</td>\n",
       "      <td>24.3169</td>\n",
       "      <td>20.9106</td>\n",
       "      <td>14.36</td>\n",
       "      <td>22.0011</td>\n",
       "    </tr>\n",
       "    <tr>\n",
       "      <th>2020-06-03</th>\n",
       "      <td>6.496</td>\n",
       "      <td>NaN</td>\n",
       "      <td>21.2953</td>\n",
       "      <td>36.8323</td>\n",
       "      <td>46.1770</td>\n",
       "      <td>23.8868</td>\n",
       "      <td>20.9994</td>\n",
       "      <td>15.34</td>\n",
       "      <td>24.0053</td>\n",
       "    </tr>\n",
       "    <tr>\n",
       "      <th>2020-06-04</th>\n",
       "      <td>6.784</td>\n",
       "      <td>NaN</td>\n",
       "      <td>21.9115</td>\n",
       "      <td>36.3391</td>\n",
       "      <td>44.8136</td>\n",
       "      <td>23.8485</td>\n",
       "      <td>21.5909</td>\n",
       "      <td>15.36</td>\n",
       "      <td>23.6652</td>\n",
       "    </tr>\n",
       "    <tr>\n",
       "      <th>2020-06-05</th>\n",
       "      <td>7.454</td>\n",
       "      <td>NaN</td>\n",
       "      <td>22.3962</td>\n",
       "      <td>36.8816</td>\n",
       "      <td>45.5447</td>\n",
       "      <td>23.0360</td>\n",
       "      <td>21.8522</td>\n",
       "      <td>15.17</td>\n",
       "      <td>23.9732</td>\n",
       "    </tr>\n",
       "  </tbody>\n",
       "</table>\n",
       "</div>"
      ],
      "text/plain": [
       "            PRIO3.SAO  RAIZ4.SAO  ITUB4.SAO  IGTA3.SAO  ARZZ3.SAO  SLCE3.SAO  \\\n",
       "2020-06-01      6.258        NaN    19.4385    34.5734    42.2845    24.7566   \n",
       "2020-06-02      6.718        NaN    20.7448    34.6918    46.4339    24.3169   \n",
       "2020-06-03      6.496        NaN    21.2953    36.8323    46.1770    23.8868   \n",
       "2020-06-04      6.784        NaN    21.9115    36.3391    44.8136    23.8485   \n",
       "2020-06-05      7.454        NaN    22.3962    36.8816    45.5447    23.0360   \n",
       "\n",
       "            WEGE3.SAO  GGBR4.SAO  PSSA3.SAO  \n",
       "2020-06-01    20.7825      13.52    21.5506  \n",
       "2020-06-02    20.9106      14.36    22.0011  \n",
       "2020-06-03    20.9994      15.34    24.0053  \n",
       "2020-06-04    21.5909      15.36    23.6652  \n",
       "2020-06-05    21.8522      15.17    23.9732  "
      ]
     },
     "execution_count": 5,
     "metadata": {},
     "output_type": "execute_result"
    }
   ],
   "source": [
    "df_precos.head()"
   ]
  },
  {
   "cell_type": "code",
   "execution_count": 8,
   "metadata": {},
   "outputs": [],
   "source": [
    "df_precos.drop('RAIZ4.SAO', axis=1, inplace=True)"
   ]
  },
  {
   "cell_type": "code",
   "execution_count": 9,
   "metadata": {},
   "outputs": [],
   "source": [
    "df_precos.to_csv(\"port_ações.csv\")"
   ]
  }
 ],
 "metadata": {
  "interpreter": {
   "hash": "b1292b868dda866c1057d1476f7d774fb418ab92ab267a15732f18cbad96e004"
  },
  "kernelspec": {
   "display_name": "Python 3.8.5 64-bit ('base': conda)",
   "language": "python",
   "name": "python3"
  },
  "language_info": {
   "codemirror_mode": {
    "name": "ipython",
    "version": 3
   },
   "file_extension": ".py",
   "mimetype": "text/x-python",
   "name": "python",
   "nbconvert_exporter": "python",
   "pygments_lexer": "ipython3",
   "version": "3.8.5"
  },
  "orig_nbformat": 2
 },
 "nbformat": 4,
 "nbformat_minor": 2
}
